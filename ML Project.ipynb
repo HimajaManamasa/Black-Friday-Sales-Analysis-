{
 "cells": [
  {
   "cell_type": "code",
   "execution_count": 1,
   "metadata": {},
   "outputs": [],
   "source": [
    "# Importing the required Libraries\n",
    "\n",
    "import pandas as pd\n",
    "import numpy as np\n",
    "import matplotlib as pyplot\n",
    "%matplotlib inline\n",
    "import seaborn as sns"
   ]
  },
  {
   "cell_type": "code",
   "execution_count": 2,
   "metadata": {},
   "outputs": [],
   "source": [
    "# Importing and Reading the data \n",
    "train=pd.read_csv('train.csv')\n",
    "test=pd.read_csv('test.csv')"
   ]
  },
  {
   "cell_type": "code",
   "execution_count": 3,
   "metadata": {},
   "outputs": [
    {
     "name": "stdout",
     "output_type": "stream",
     "text": [
      "<class 'pandas.core.frame.DataFrame'>\n",
      "RangeIndex: 1029 entries, 0 to 1028\n",
      "Data columns (total 12 columns):\n",
      "User_ID                       1029 non-null int64\n",
      "Product_ID                    1029 non-null object\n",
      "Gender                        1029 non-null object\n",
      "Age                           1029 non-null object\n",
      "Occupation                    1029 non-null int64\n",
      "City_Category                 1029 non-null object\n",
      "Stay_In_Current_City_Years    1029 non-null object\n",
      "Marital_Status                1029 non-null int64\n",
      "Product_Category_1            1029 non-null int64\n",
      "Product_Category_2            720 non-null float64\n",
      "Product_Category_3            330 non-null float64\n",
      "Purchase                      1029 non-null int64\n",
      "dtypes: float64(2), int64(5), object(5)\n",
      "memory usage: 96.6+ KB\n"
     ]
    }
   ],
   "source": [
    "train.info()"
   ]
  },
  {
   "cell_type": "code",
   "execution_count": 4,
   "metadata": {},
   "outputs": [
    {
     "name": "stdout",
     "output_type": "stream",
     "text": [
      "<class 'pandas.core.frame.DataFrame'>\n",
      "RangeIndex: 173 entries, 0 to 172\n",
      "Data columns (total 11 columns):\n",
      "User_ID                       173 non-null int64\n",
      "Product_ID                    173 non-null object\n",
      "Gender                        173 non-null object\n",
      "Age                           173 non-null object\n",
      "Occupation                    173 non-null int64\n",
      "City_Category                 173 non-null object\n",
      "Stay_In_Current_City_Years    173 non-null object\n",
      "Marital_Status                173 non-null int64\n",
      "Product_Category_1            173 non-null int64\n",
      "Product_Category_2            128 non-null float64\n",
      "Product_Category_3            61 non-null float64\n",
      "dtypes: float64(2), int64(4), object(5)\n",
      "memory usage: 15.0+ KB\n"
     ]
    }
   ],
   "source": [
    "test.info()"
   ]
  },
  {
   "cell_type": "code",
   "execution_count": 5,
   "metadata": {},
   "outputs": [
    {
     "data": {
      "text/html": [
       "<div>\n",
       "<style scoped>\n",
       "    .dataframe tbody tr th:only-of-type {\n",
       "        vertical-align: middle;\n",
       "    }\n",
       "\n",
       "    .dataframe tbody tr th {\n",
       "        vertical-align: top;\n",
       "    }\n",
       "\n",
       "    .dataframe thead th {\n",
       "        text-align: right;\n",
       "    }\n",
       "</style>\n",
       "<table border=\"1\" class=\"dataframe\">\n",
       "  <thead>\n",
       "    <tr style=\"text-align: right;\">\n",
       "      <th></th>\n",
       "      <th>User_ID</th>\n",
       "      <th>Product_ID</th>\n",
       "      <th>Gender</th>\n",
       "      <th>Age</th>\n",
       "      <th>Occupation</th>\n",
       "      <th>City_Category</th>\n",
       "      <th>Stay_In_Current_City_Years</th>\n",
       "      <th>Marital_Status</th>\n",
       "      <th>Product_Category_1</th>\n",
       "      <th>Product_Category_2</th>\n",
       "      <th>Product_Category_3</th>\n",
       "      <th>Purchase</th>\n",
       "    </tr>\n",
       "  </thead>\n",
       "  <tbody>\n",
       "    <tr>\n",
       "      <td>0</td>\n",
       "      <td>1000001</td>\n",
       "      <td>P00069042</td>\n",
       "      <td>F</td>\n",
       "      <td>0-17</td>\n",
       "      <td>10</td>\n",
       "      <td>A</td>\n",
       "      <td>2</td>\n",
       "      <td>0</td>\n",
       "      <td>3</td>\n",
       "      <td>NaN</td>\n",
       "      <td>NaN</td>\n",
       "      <td>8370</td>\n",
       "    </tr>\n",
       "    <tr>\n",
       "      <td>1</td>\n",
       "      <td>1000001</td>\n",
       "      <td>P00248942</td>\n",
       "      <td>F</td>\n",
       "      <td>0-17</td>\n",
       "      <td>10</td>\n",
       "      <td>A</td>\n",
       "      <td>2</td>\n",
       "      <td>0</td>\n",
       "      <td>1</td>\n",
       "      <td>6.0</td>\n",
       "      <td>14.0</td>\n",
       "      <td>15200</td>\n",
       "    </tr>\n",
       "    <tr>\n",
       "      <td>2</td>\n",
       "      <td>1000001</td>\n",
       "      <td>P00087842</td>\n",
       "      <td>F</td>\n",
       "      <td>0-17</td>\n",
       "      <td>10</td>\n",
       "      <td>A</td>\n",
       "      <td>2</td>\n",
       "      <td>0</td>\n",
       "      <td>12</td>\n",
       "      <td>NaN</td>\n",
       "      <td>NaN</td>\n",
       "      <td>1422</td>\n",
       "    </tr>\n",
       "    <tr>\n",
       "      <td>3</td>\n",
       "      <td>1000001</td>\n",
       "      <td>P00085442</td>\n",
       "      <td>F</td>\n",
       "      <td>0-17</td>\n",
       "      <td>10</td>\n",
       "      <td>A</td>\n",
       "      <td>2</td>\n",
       "      <td>0</td>\n",
       "      <td>12</td>\n",
       "      <td>14.0</td>\n",
       "      <td>NaN</td>\n",
       "      <td>1057</td>\n",
       "    </tr>\n",
       "    <tr>\n",
       "      <td>4</td>\n",
       "      <td>1000002</td>\n",
       "      <td>P00285442</td>\n",
       "      <td>M</td>\n",
       "      <td>55+</td>\n",
       "      <td>16</td>\n",
       "      <td>C</td>\n",
       "      <td>4+</td>\n",
       "      <td>0</td>\n",
       "      <td>8</td>\n",
       "      <td>NaN</td>\n",
       "      <td>NaN</td>\n",
       "      <td>7969</td>\n",
       "    </tr>\n",
       "  </tbody>\n",
       "</table>\n",
       "</div>"
      ],
      "text/plain": [
       "   User_ID Product_ID Gender   Age  Occupation City_Category  \\\n",
       "0  1000001  P00069042      F  0-17          10             A   \n",
       "1  1000001  P00248942      F  0-17          10             A   \n",
       "2  1000001  P00087842      F  0-17          10             A   \n",
       "3  1000001  P00085442      F  0-17          10             A   \n",
       "4  1000002  P00285442      M   55+          16             C   \n",
       "\n",
       "  Stay_In_Current_City_Years  Marital_Status  Product_Category_1  \\\n",
       "0                          2               0                   3   \n",
       "1                          2               0                   1   \n",
       "2                          2               0                  12   \n",
       "3                          2               0                  12   \n",
       "4                         4+               0                   8   \n",
       "\n",
       "   Product_Category_2  Product_Category_3  Purchase  \n",
       "0                 NaN                 NaN      8370  \n",
       "1                 6.0                14.0     15200  \n",
       "2                 NaN                 NaN      1422  \n",
       "3                14.0                 NaN      1057  \n",
       "4                 NaN                 NaN      7969  "
      ]
     },
     "execution_count": 5,
     "metadata": {},
     "output_type": "execute_result"
    }
   ],
   "source": [
    "# print information about first five customers\n",
    "\n",
    "train.head()"
   ]
  },
  {
   "cell_type": "code",
   "execution_count": 6,
   "metadata": {},
   "outputs": [
    {
     "data": {
      "text/plain": [
       "<matplotlib.axes._subplots.AxesSubplot at 0x1a22b39590>"
      ]
     },
     "execution_count": 6,
     "metadata": {},
     "output_type": "execute_result"
    },
    {
     "data": {
      "image/png": "[encoded data removed]",
      "text/plain": [
       "<Figure size 432x288 with 1 Axes>"
      ]
     },
     "metadata": {
      "needs_background": "light"
     },
     "output_type": "display_data"
    }
   ],
   "source": [
    "# seaborn library and the countplot function is used to plot the number of male and female customers\n",
    "\n",
    "sns.countplot(train['Gender'])"
   ]
  },
  {
   "cell_type": "code",
   "execution_count": 7,
   "metadata": {},
   "outputs": [
    {
     "data": {
      "text/plain": [
       "<matplotlib.axes._subplots.AxesSubplot at 0x10f1c9c50>"
      ]
     },
     "execution_count": 7,
     "metadata": {},
     "output_type": "execute_result"
    },
    {
     "data": {
      "image/png": "[encoded data removed]",
      "text/plain": [
       "<Figure size 432x288 with 1 Axes>"
      ]
     },
     "metadata": {
      "needs_background": "light"
     },
     "output_type": "display_data"
    }
   ],
   "source": [
    "# seaborn library and the countplot function is used to plot the age group\n",
    "\n",
    "sns.countplot(train['Age'])"
   ]
  },
  {
   "cell_type": "code",
   "execution_count": 8,
   "metadata": {},
   "outputs": [
    {
     "data": {
      "text/plain": [
       "<matplotlib.axes._subplots.AxesSubplot at 0x10f1f1a50>"
      ]
     },
     "execution_count": 8,
     "metadata": {},
     "output_type": "execute_result"
    },
    {
     "data": {
      "image/png": "[encoded data removed]",
      "text/plain": [
       "<Figure size 432x288 with 1 Axes>"
      ]
     },
     "metadata": {
      "needs_background": "light"
     },
     "output_type": "display_data"
    }
   ],
   "source": [
    "# Distribution of gender variable is analysed through age category with defined hue parameter.\n",
    "\n",
    "sns.countplot(train['Age'], hue=train['Gender'])"
   ]
  },
  {
   "cell_type": "code",
   "execution_count": 41,
   "metadata": {},
   "outputs": [
    {
     "data": {
      "text/plain": [
       "Text(0.5, 1.0, 'Purchase amount Distribution')"
      ]
     },
     "execution_count": 41,
     "metadata": {},
     "output_type": "execute_result"
    },
    {
     "data": {
      "image/png": "[encoded data removed]",
      "text/plain": [
       "<Figure size 1200x700 with 1 Axes>"
      ]
     },
     "metadata": {},
     "output_type": "display_data"
    }
   ],
   "source": [
    "#  To get an idea of distribution of traget variable (purchase) a univariate analysis is done and plotted through histogram\n",
    "\n",
    "plt.figure(figsize=(12,7))\n",
    "sns.distplot(train.Purchase, bins = 25)\n",
    "plt.xlabel('Amount spent in Purchase')\n",
    "plt.ylabel('Number of Buyers')\n",
    "plt.title('Purchase amount Distribution')"
   ]
  },
  {
   "cell_type": "code",
   "execution_count": 11,
   "metadata": {},
   "outputs": [
    {
     "data": {
      "text/html": [
       "<div>\n",
       "<style scoped>\n",
       "    .dataframe tbody tr th:only-of-type {\n",
       "        vertical-align: middle;\n",
       "    }\n",
       "\n",
       "    .dataframe tbody tr th {\n",
       "        vertical-align: top;\n",
       "    }\n",
       "\n",
       "    .dataframe thead th {\n",
       "        text-align: right;\n",
       "    }\n",
       "</style>\n",
       "<table border=\"1\" class=\"dataframe\">\n",
       "  <thead>\n",
       "    <tr style=\"text-align: right;\">\n",
       "      <th></th>\n",
       "      <th>User_ID</th>\n",
       "      <th>Occupation</th>\n",
       "      <th>Marital_Status</th>\n",
       "      <th>Product_Category_1</th>\n",
       "      <th>Product_Category_2</th>\n",
       "      <th>Product_Category_3</th>\n",
       "      <th>Purchase</th>\n",
       "    </tr>\n",
       "  </thead>\n",
       "  <tbody>\n",
       "    <tr>\n",
       "      <td>count</td>\n",
       "      <td>1.029000e+03</td>\n",
       "      <td>1029.000000</td>\n",
       "      <td>1029.000000</td>\n",
       "      <td>1029.000000</td>\n",
       "      <td>720.000000</td>\n",
       "      <td>330.000000</td>\n",
       "      <td>1029.000000</td>\n",
       "    </tr>\n",
       "    <tr>\n",
       "      <td>mean</td>\n",
       "      <td>1.000093e+06</td>\n",
       "      <td>8.176871</td>\n",
       "      <td>0.519922</td>\n",
       "      <td>4.910593</td>\n",
       "      <td>9.684722</td>\n",
       "      <td>12.790909</td>\n",
       "      <td>9621.198251</td>\n",
       "    </tr>\n",
       "    <tr>\n",
       "      <td>std</td>\n",
       "      <td>5.306651e+01</td>\n",
       "      <td>6.645836</td>\n",
       "      <td>0.499846</td>\n",
       "      <td>3.551699</td>\n",
       "      <td>5.045472</td>\n",
       "      <td>4.016899</td>\n",
       "      <td>5099.110979</td>\n",
       "    </tr>\n",
       "    <tr>\n",
       "      <td>min</td>\n",
       "      <td>1.000001e+06</td>\n",
       "      <td>0.000000</td>\n",
       "      <td>0.000000</td>\n",
       "      <td>1.000000</td>\n",
       "      <td>2.000000</td>\n",
       "      <td>3.000000</td>\n",
       "      <td>584.000000</td>\n",
       "    </tr>\n",
       "    <tr>\n",
       "      <td>25%</td>\n",
       "      <td>1.000045e+06</td>\n",
       "      <td>3.000000</td>\n",
       "      <td>0.000000</td>\n",
       "      <td>1.000000</td>\n",
       "      <td>5.000000</td>\n",
       "      <td>9.000000</td>\n",
       "      <td>5936.000000</td>\n",
       "    </tr>\n",
       "    <tr>\n",
       "      <td>50%</td>\n",
       "      <td>1.000093e+06</td>\n",
       "      <td>7.000000</td>\n",
       "      <td>1.000000</td>\n",
       "      <td>5.000000</td>\n",
       "      <td>8.000000</td>\n",
       "      <td>14.000000</td>\n",
       "      <td>8140.000000</td>\n",
       "    </tr>\n",
       "    <tr>\n",
       "      <td>75%</td>\n",
       "      <td>1.000146e+06</td>\n",
       "      <td>15.000000</td>\n",
       "      <td>1.000000</td>\n",
       "      <td>8.000000</td>\n",
       "      <td>14.000000</td>\n",
       "      <td>16.000000</td>\n",
       "      <td>13551.000000</td>\n",
       "    </tr>\n",
       "    <tr>\n",
       "      <td>max</td>\n",
       "      <td>1.000174e+06</td>\n",
       "      <td>20.000000</td>\n",
       "      <td>1.000000</td>\n",
       "      <td>18.000000</td>\n",
       "      <td>17.000000</td>\n",
       "      <td>18.000000</td>\n",
       "      <td>23792.000000</td>\n",
       "    </tr>\n",
       "  </tbody>\n",
       "</table>\n",
       "</div>"
      ],
      "text/plain": [
       "            User_ID   Occupation  Marital_Status  Product_Category_1  \\\n",
       "count  1.029000e+03  1029.000000     1029.000000         1029.000000   \n",
       "mean   1.000093e+06     8.176871        0.519922            4.910593   \n",
       "std    5.306651e+01     6.645836        0.499846            3.551699   \n",
       "min    1.000001e+06     0.000000        0.000000            1.000000   \n",
       "25%    1.000045e+06     3.000000        0.000000            1.000000   \n",
       "50%    1.000093e+06     7.000000        1.000000            5.000000   \n",
       "75%    1.000146e+06    15.000000        1.000000            8.000000   \n",
       "max    1.000174e+06    20.000000        1.000000           18.000000   \n",
       "\n",
       "       Product_Category_2  Product_Category_3      Purchase  \n",
       "count          720.000000          330.000000   1029.000000  \n",
       "mean             9.684722           12.790909   9621.198251  \n",
       "std              5.045472            4.016899   5099.110979  \n",
       "min              2.000000            3.000000    584.000000  \n",
       "25%              5.000000            9.000000   5936.000000  \n",
       "50%              8.000000           14.000000   8140.000000  \n",
       "75%             14.000000           16.000000  13551.000000  \n",
       "max             17.000000           18.000000  23792.000000  "
      ]
     },
     "execution_count": 11,
     "metadata": {},
     "output_type": "execute_result"
    }
   ],
   "source": [
    "# to analyze the categories in the data\n",
    "\n",
    "train.describe()"
   ]
  },
  {
   "cell_type": "code",
   "execution_count": 12,
   "metadata": {},
   "outputs": [
    {
     "data": {
      "text/plain": [
       "162"
      ]
     },
     "execution_count": 12,
     "metadata": {},
     "output_type": "execute_result"
    }
   ],
   "source": [
    "# To get to know about the no.of customers (user Id) in the data\n",
    "\n",
    "train['User_ID'].nunique()"
   ]
  },
  {
   "cell_type": "code",
   "execution_count": 13,
   "metadata": {},
   "outputs": [],
   "source": [
    "# performing analyses on occupation category for each customer by taking unique values\n",
    "\n",
    "def unique(column):\n",
    "    x = np.array(column)\n",
    "    print(np.unique(x))"
   ]
  },
  {
   "cell_type": "code",
   "execution_count": 14,
   "metadata": {},
   "outputs": [
    {
     "name": "stdout",
     "output_type": "stream",
     "text": [
      "The unique ID numbers of customers occupations:\n",
      "[ 0  1  2  3  4  5  6  7  8  9 10 11 12 13 14 15 16 17 18 19 20]\n"
     ]
    }
   ],
   "source": [
    "print(\"The unique ID numbers of customers occupations:\")\n",
    "unique(train['Occupation'])"
   ]
  },
  {
   "cell_type": "code",
   "execution_count": 15,
   "metadata": {},
   "outputs": [
    {
     "data": {
      "text/plain": [
       "[1017457,\n",
       " 897012,\n",
       " 333351,\n",
       " 931029,\n",
       " 1364411,\n",
       " 25737,\n",
       " 114729,\n",
       " 956550,\n",
       " 91788,\n",
       " 292086,\n",
       " 422499,\n",
       " 216870,\n",
       " 380525,\n",
       " 100218,\n",
       " 158652,\n",
       " 185060,\n",
       " 425891,\n",
       " 1097831,\n",
       " 58773,\n",
       " 77103,\n",
       " 752641]"
      ]
     },
     "execution_count": 15,
     "metadata": {},
     "output_type": "execute_result"
    }
   ],
   "source": [
    "# Money spent by each customer group through their occupation Id  \n",
    "\n",
    "occupations_id = list(range(0, 21))\n",
    "spent_money = []\n",
    "for oid in occupations_id:\n",
    "    spent_money.append(train[train['Occupation'] == oid]['Purchase'].sum())\n",
    "\n",
    "spent_money"
   ]
  },
  {
   "cell_type": "code",
   "execution_count": 16,
   "metadata": {},
   "outputs": [
    {
     "data": {
      "image/png": "[encoded data removed]",
      "text/plain": [
       "<Figure size 640x480 with 1 Axes>"
      ]
     },
     "metadata": {},
     "output_type": "display_data"
    }
   ],
   "source": [
    "# Bivariate analysis and plotting the graph for the money spent per occupation category\n",
    "\n",
    "import matplotlib.pyplot as plt; plt.rcdefaults()\n",
    "import matplotlib.pyplot as plt\n",
    "\n",
    "objects = ('0', '1', '2', '3', '4', '5','6','7','8','9','10', '11','12', '13', '14', '15', '16', '17', '18', '19', '20')\n",
    "y_pos = np.arange(len(objects))\n",
    "\n",
    "plt.bar(y_pos, spent_money, align='center', alpha=0.5)\n",
    "plt.xticks(y_pos, objects)\n",
    "plt.ylabel('Money spent')\n",
    "plt.title('Occupation ID')\n",
    "\n",
    "plt.show()"
   ]
  },
  {
   "cell_type": "code",
   "execution_count": 17,
   "metadata": {},
   "outputs": [
    {
     "data": {
      "text/plain": [
       "3"
      ]
     },
     "execution_count": 17,
     "metadata": {},
     "output_type": "execute_result"
    }
   ],
   "source": [
    "train['City_Category'].nunique()"
   ]
  },
  {
   "cell_type": "code",
   "execution_count": 18,
   "metadata": {},
   "outputs": [
    {
     "data": {
      "image/png": "[encoded data removed]",
      "text/plain": [
       "<Figure size 1100x600 with 1 Axes>"
      ]
     },
     "metadata": {},
     "output_type": "display_data"
    }
   ],
   "source": [
    "# Pie chart representation of the variable city_category which shows the ratio of customers from each city to spend on black friday\n",
    "\n",
    "explode = (0.1, 0, 0)\n",
    "fig1, ax1 = plt.subplots(figsize=(11,6))\n",
    "ax1.pie(train['City_Category'].value_counts(), explode=explode, labels=train['City_Category'].unique(), autopct='%1.1f%%')\n",
    "plt.legend()\n",
    "plt.show()"
   ]
  },
  {
   "cell_type": "code",
   "execution_count": 19,
   "metadata": {},
   "outputs": [],
   "source": [
    "# Data Pre-processing \n",
    "\n",
    "\n",
    "\n",
    "train = train.drop(['Product_Category_3'], axis=1)"
   ]
  },
  {
   "cell_type": "code",
   "execution_count": 20,
   "metadata": {},
   "outputs": [],
   "source": [
    "# missing values are filled for fitting the machine learning model.\n",
    "\n",
    "train['Product_Category_2'].fillna((train['Product_Category_2'].mean()), inplace=True)"
   ]
  },
  {
   "cell_type": "code",
   "execution_count": 21,
   "metadata": {},
   "outputs": [
    {
     "name": "stdout",
     "output_type": "stream",
     "text": [
      "<class 'pandas.core.frame.DataFrame'>\n",
      "RangeIndex: 1029 entries, 0 to 1028\n",
      "Data columns (total 11 columns):\n",
      "User_ID                       1029 non-null int64\n",
      "Product_ID                    1029 non-null object\n",
      "Gender                        1029 non-null object\n",
      "Age                           1029 non-null object\n",
      "Occupation                    1029 non-null int64\n",
      "City_Category                 1029 non-null object\n",
      "Stay_In_Current_City_Years    1029 non-null object\n",
      "Marital_Status                1029 non-null int64\n",
      "Product_Category_1            1029 non-null int64\n",
      "Product_Category_2            1029 non-null float64\n",
      "Purchase                      1029 non-null int64\n",
      "dtypes: float64(1), int64(5), object(5)\n",
      "memory usage: 88.6+ KB\n"
     ]
    }
   ],
   "source": [
    "train.info()"
   ]
  },
  {
   "cell_type": "code",
   "execution_count": 22,
   "metadata": {},
   "outputs": [
    {
     "name": "stdout",
     "output_type": "stream",
     "text": [
      "<class 'pandas.core.frame.DataFrame'>\n",
      "RangeIndex: 1029 entries, 0 to 1028\n",
      "Data columns (total 9 columns):\n",
      "Gender                        1029 non-null object\n",
      "Age                           1029 non-null object\n",
      "Occupation                    1029 non-null int64\n",
      "City_Category                 1029 non-null object\n",
      "Stay_In_Current_City_Years    1029 non-null object\n",
      "Marital_Status                1029 non-null int64\n",
      "Product_Category_1            1029 non-null int64\n",
      "Product_Category_2            1029 non-null float64\n",
      "Purchase                      1029 non-null int64\n",
      "dtypes: float64(1), int64(4), object(4)\n",
      "memory usage: 72.5+ KB\n"
     ]
    }
   ],
   "source": [
    "# Data not required for prediction is dropped from the table \n",
    "\n",
    "train = train.drop(['User_ID','Product_ID'], axis=1)\n",
    "train.info()"
   ]
  },
  {
   "cell_type": "code",
   "execution_count": 23,
   "metadata": {},
   "outputs": [
    {
     "data": {
      "text/html": [
       "<div>\n",
       "<style scoped>\n",
       "    .dataframe tbody tr th:only-of-type {\n",
       "        vertical-align: middle;\n",
       "    }\n",
       "\n",
       "    .dataframe tbody tr th {\n",
       "        vertical-align: top;\n",
       "    }\n",
       "\n",
       "    .dataframe thead th {\n",
       "        text-align: right;\n",
       "    }\n",
       "</style>\n",
       "<table border=\"1\" class=\"dataframe\">\n",
       "  <thead>\n",
       "    <tr style=\"text-align: right;\">\n",
       "      <th></th>\n",
       "      <th>Gender</th>\n",
       "      <th>Age</th>\n",
       "      <th>Occupation</th>\n",
       "      <th>City_Category</th>\n",
       "      <th>Stay_In_Current_City_Years</th>\n",
       "      <th>Marital_Status</th>\n",
       "      <th>Product_Category_1</th>\n",
       "      <th>Product_Category_2</th>\n",
       "      <th>Purchase</th>\n",
       "      <th>F</th>\n",
       "      <th>...</th>\n",
       "      <th>51-55</th>\n",
       "      <th>55+</th>\n",
       "      <th>A</th>\n",
       "      <th>B</th>\n",
       "      <th>C</th>\n",
       "      <th>0</th>\n",
       "      <th>1</th>\n",
       "      <th>2</th>\n",
       "      <th>3</th>\n",
       "      <th>4+</th>\n",
       "    </tr>\n",
       "  </thead>\n",
       "  <tbody>\n",
       "    <tr>\n",
       "      <td>0</td>\n",
       "      <td>F</td>\n",
       "      <td>0-17</td>\n",
       "      <td>10</td>\n",
       "      <td>A</td>\n",
       "      <td>2</td>\n",
       "      <td>0</td>\n",
       "      <td>3</td>\n",
       "      <td>9.684722</td>\n",
       "      <td>8370</td>\n",
       "      <td>1</td>\n",
       "      <td>...</td>\n",
       "      <td>0</td>\n",
       "      <td>0</td>\n",
       "      <td>1</td>\n",
       "      <td>0</td>\n",
       "      <td>0</td>\n",
       "      <td>0</td>\n",
       "      <td>0</td>\n",
       "      <td>1</td>\n",
       "      <td>0</td>\n",
       "      <td>0</td>\n",
       "    </tr>\n",
       "    <tr>\n",
       "      <td>1</td>\n",
       "      <td>F</td>\n",
       "      <td>0-17</td>\n",
       "      <td>10</td>\n",
       "      <td>A</td>\n",
       "      <td>2</td>\n",
       "      <td>0</td>\n",
       "      <td>1</td>\n",
       "      <td>6.000000</td>\n",
       "      <td>15200</td>\n",
       "      <td>1</td>\n",
       "      <td>...</td>\n",
       "      <td>0</td>\n",
       "      <td>0</td>\n",
       "      <td>1</td>\n",
       "      <td>0</td>\n",
       "      <td>0</td>\n",
       "      <td>0</td>\n",
       "      <td>0</td>\n",
       "      <td>1</td>\n",
       "      <td>0</td>\n",
       "      <td>0</td>\n",
       "    </tr>\n",
       "    <tr>\n",
       "      <td>2</td>\n",
       "      <td>F</td>\n",
       "      <td>0-17</td>\n",
       "      <td>10</td>\n",
       "      <td>A</td>\n",
       "      <td>2</td>\n",
       "      <td>0</td>\n",
       "      <td>12</td>\n",
       "      <td>9.684722</td>\n",
       "      <td>1422</td>\n",
       "      <td>1</td>\n",
       "      <td>...</td>\n",
       "      <td>0</td>\n",
       "      <td>0</td>\n",
       "      <td>1</td>\n",
       "      <td>0</td>\n",
       "      <td>0</td>\n",
       "      <td>0</td>\n",
       "      <td>0</td>\n",
       "      <td>1</td>\n",
       "      <td>0</td>\n",
       "      <td>0</td>\n",
       "    </tr>\n",
       "    <tr>\n",
       "      <td>3</td>\n",
       "      <td>F</td>\n",
       "      <td>0-17</td>\n",
       "      <td>10</td>\n",
       "      <td>A</td>\n",
       "      <td>2</td>\n",
       "      <td>0</td>\n",
       "      <td>12</td>\n",
       "      <td>14.000000</td>\n",
       "      <td>1057</td>\n",
       "      <td>1</td>\n",
       "      <td>...</td>\n",
       "      <td>0</td>\n",
       "      <td>0</td>\n",
       "      <td>1</td>\n",
       "      <td>0</td>\n",
       "      <td>0</td>\n",
       "      <td>0</td>\n",
       "      <td>0</td>\n",
       "      <td>1</td>\n",
       "      <td>0</td>\n",
       "      <td>0</td>\n",
       "    </tr>\n",
       "    <tr>\n",
       "      <td>4</td>\n",
       "      <td>M</td>\n",
       "      <td>55+</td>\n",
       "      <td>16</td>\n",
       "      <td>C</td>\n",
       "      <td>4+</td>\n",
       "      <td>0</td>\n",
       "      <td>8</td>\n",
       "      <td>9.684722</td>\n",
       "      <td>7969</td>\n",
       "      <td>0</td>\n",
       "      <td>...</td>\n",
       "      <td>0</td>\n",
       "      <td>1</td>\n",
       "      <td>0</td>\n",
       "      <td>0</td>\n",
       "      <td>1</td>\n",
       "      <td>0</td>\n",
       "      <td>0</td>\n",
       "      <td>0</td>\n",
       "      <td>0</td>\n",
       "      <td>1</td>\n",
       "    </tr>\n",
       "  </tbody>\n",
       "</table>\n",
       "<p>5 rows × 26 columns</p>\n",
       "</div>"
      ],
      "text/plain": [
       "  Gender   Age  Occupation City_Category Stay_In_Current_City_Years  \\\n",
       "0      F  0-17          10             A                          2   \n",
       "1      F  0-17          10             A                          2   \n",
       "2      F  0-17          10             A                          2   \n",
       "3      F  0-17          10             A                          2   \n",
       "4      M   55+          16             C                         4+   \n",
       "\n",
       "   Marital_Status  Product_Category_1  Product_Category_2  Purchase  F  ...  \\\n",
       "0               0                   3            9.684722      8370  1  ...   \n",
       "1               0                   1            6.000000     15200  1  ...   \n",
       "2               0                  12            9.684722      1422  1  ...   \n",
       "3               0                  12           14.000000      1057  1  ...   \n",
       "4               0                   8            9.684722      7969  0  ...   \n",
       "\n",
       "   51-55  55+  A  B  C  0  1  2  3  4+  \n",
       "0      0    0  1  0  0  0  0  1  0   0  \n",
       "1      0    0  1  0  0  0  0  1  0   0  \n",
       "2      0    0  1  0  0  0  0  1  0   0  \n",
       "3      0    0  1  0  0  0  0  1  0   0  \n",
       "4      0    1  0  0  1  0  0  0  0   1  \n",
       "\n",
       "[5 rows x 26 columns]"
      ]
     },
     "execution_count": 23,
     "metadata": {},
     "output_type": "execute_result"
    }
   ],
   "source": [
    "# Conversion of categorical values to encoded vectors to process numeric values\n",
    "\n",
    "\n",
    "df_Gender = pd.get_dummies(train['Gender'])\n",
    "df_Age = pd.get_dummies(train['Age'])\n",
    "df_City_Category = pd.get_dummies(train['City_Category'])\n",
    "df_Stay_In_Current_City_Years = pd.get_dummies(train['Stay_In_Current_City_Years'])\n",
    "\n",
    "data_final = pd.concat([train, df_Gender, df_Age, df_City_Category, df_Stay_In_Current_City_Years], axis=1)\n",
    "\n",
    "data_final.head()"
   ]
  },
  {
   "cell_type": "code",
   "execution_count": 24,
   "metadata": {},
   "outputs": [],
   "source": [
    "# Prediction of Machine learning Algorithms\n",
    "\n",
    "# Creating inpuut and output vectors for the model\n",
    "\n",
    "X = data_final[['Occupation', 'Marital_Status', 'Product_Category_2', 'F', 'M', '0-17', '18-25', '26-35', '36-45', '46-50', '51-55', '55+', 'A', 'B', 'C', '0', '1', '2', '3', '4+']]\n",
    "y = data_final['Purchase']"
   ]
  },
  {
   "cell_type": "code",
   "execution_count": 25,
   "metadata": {},
   "outputs": [],
   "source": [
    "# divides the data into two sets , splits our dataset into 60% training set and 40% test set.\n",
    "\n",
    "from sklearn.model_selection import train_test_split\n",
    "\n",
    "X_train, X_test, y_train, y_test = train_test_split(X, y, test_size=0.4)"
   ]
  },
  {
   "cell_type": "code",
   "execution_count": 26,
   "metadata": {},
   "outputs": [
    {
     "name": "stdout",
     "output_type": "stream",
     "text": [
      "LinearRegression(copy_X=True, fit_intercept=True, n_jobs=None, normalize=False)\n"
     ]
    }
   ],
   "source": [
    "# importing and fitting the model with data\n",
    "\n",
    "from sklearn.linear_model import LinearRegression\n",
    "\n",
    "lm = LinearRegression()\n",
    "lm.fit(X_train, y_train)\n",
    "print(lm.fit(X_train, y_train))"
   ]
  },
  {
   "cell_type": "code",
   "execution_count": 27,
   "metadata": {},
   "outputs": [
    {
     "name": "stdout",
     "output_type": "stream",
     "text": [
      "Intercept parameter: 11220.533137334573\n",
      "                    Coefficient\n",
      "Occupation            34.156755\n",
      "Marital_Status      -563.339012\n",
      "Product_Category_2  -241.810681\n",
      "F                   -202.722068\n",
      "M                    202.722068\n",
      "0-17                 782.744157\n",
      "18-25               -826.500037\n",
      "26-35                635.918302\n",
      "36-45               1030.900432\n",
      "46-50               1425.286094\n",
      "51-55              -1354.191655\n",
      "55+                -1694.157292\n",
      "A                   -748.939467\n",
      "B                    876.775180\n",
      "C                   -127.835713\n",
      "0                    -20.773976\n",
      "1                    -45.716759\n",
      "2                    510.208514\n",
      "3                  -1046.784167\n",
      "4+                   603.066389\n"
     ]
    }
   ],
   "source": [
    "# After training and learning procedure, intercept parameter and coefficient values of our model are printed.\n",
    "\n",
    "print('Intercept parameter:', lm.intercept_)\n",
    "coeff_df = pd.DataFrame(lm.coef_, X.columns, columns=['Coefficient'])\n",
    "print(coeff_df)"
   ]
  },
  {
   "cell_type": "code",
   "execution_count": 28,
   "metadata": {},
   "outputs": [
    {
     "name": "stdout",
     "output_type": "stream",
     "text": [
      "Preddiction of purchases (in dollars) for new costumers: [ 9985.02364265  8432.50157632  6738.42277922  7079.72831616\n",
      "  7058.05305246  7615.7520661   9809.09809453  8246.26047148\n",
      "  8560.57424448  9044.38378234 12076.30799459 10531.80042019\n",
      " 13026.42978209 10882.78516402 10251.51859308  7593.51969798\n",
      " 10353.98885734  9569.12911836  7773.29903794 10658.90242047\n",
      "  9238.65160668 10841.34884844  9959.60319475  8129.52770493\n",
      " 10495.2478667   9544.76093093 11596.72428767  9830.81977156\n",
      " 10965.07176601 11520.48675361  8650.72955677  9586.6448236\n",
      " 10982.48949715  7657.71397998 11064.8690476   9278.60957057\n",
      "  8077.10299606  7615.7520661  11142.52378193  8392.11102489\n",
      "  9864.13821367 10101.15113688 11566.87495398 11650.11072708\n",
      "  8189.28686358  9224.51102697 10452.52773607  8892.54023749\n",
      "  9120.58325303  8636.99995495  9951.96567611  8866.74359002\n",
      "  9066.61615046  7290.02558115 10841.4429118  12227.20490181\n",
      "  8210.608161    9048.00405133 11187.43002567  9120.58325303\n",
      "  7049.55699746 10517.70621802  8995.59669751  8636.99995495\n",
      "  8729.67255769  8787.43729983 11083.15952916  8454.79737072\n",
      "  9174.57982586  8457.92202422  9569.12911836  9778.49660758\n",
      "  9615.60875568 10955.74648219  6047.40948922  8906.86340262\n",
      " 10464.47177492  8272.40945218  8613.42475441 10253.3991226\n",
      "  8217.96044241 10919.20839902  9786.47873871  9251.14705232\n",
      "  9640.15094795 11237.1862757  10193.77635684  9409.24018774\n",
      "  7373.94138537  8088.50713725  8672.90822504  8742.91227247\n",
      "  8272.40945218  8070.84611442  5552.62669774  9120.58325303\n",
      "  7404.42557839  8665.13709472  7531.48835721  7729.36532853\n",
      " 12032.12808959 10675.77570177  8091.9257871   9280.39753575\n",
      "  8771.31963091 10039.07695448  8501.10159174  7657.71397998\n",
      "  9028.7479654   8806.1933706   5284.34727971  7851.83674552\n",
      " 10064.01315075  9527.81696739 10452.72044471  8121.57038432\n",
      "  9042.4440906   8153.19041709  9786.39252944  8216.11134349\n",
      "  7634.64367254 10548.3626548  10359.66988343  9278.60957057\n",
      "  9263.0717171   7445.35971167  9586.6448236  11466.1108586\n",
      "  9528.00514379  8503.74653113 10452.72044471  8817.12719957\n",
      "  7574.51110765  9148.67408334  7593.51969798  9763.52087951\n",
      "  8659.23232307  6865.78031275 10982.48949715 10022.99258307\n",
      "  9028.7479654   6811.44889813  7574.51110765  7835.29231533\n",
      " 13026.42978209  6595.78927949 10657.50153929  6311.56575042\n",
      "  8349.87485202  9837.59325296 10377.36799376  9951.28516619\n",
      "  6174.01566261 10282.57599966 10392.40747004  8659.23232307\n",
      "  9985.02364265 11922.9892051   9357.47184744  7593.51969798\n",
      "  9161.74529096  8634.6926119   9580.3917893  10247.64025866\n",
      "  9542.78987147  7701.11728103 10784.75182115  7094.26251958\n",
      " 10657.50153929 12333.64924839 12156.46450076  8862.44634479\n",
      "  9021.26103637  9531.62541278  9837.59325296  9656.62932336\n",
      "  9372.21060159  7657.71397998 10675.77570177  9455.10459987\n",
      " 10982.48949715  8303.31592322  8450.94193868  7228.92919521\n",
      " 11575.56569772  8636.99995495 10965.07176601  4156.32488373\n",
      " 10548.3626548  10252.21683758 10517.48023482  8894.37066169\n",
      "  9432.7590194  10124.70161336 10383.96292189  7593.4816346\n",
      "  6721.44680745 11384.33446265 11336.19971296  8868.68328176\n",
      "  9014.65626623 10548.3626548   9080.93633582 11473.85666743\n",
      " 10644.04583856 10125.05439071  9985.02364265 11650.11072708\n",
      "  7740.08425431  6715.8016067   9951.28516619  9786.39252944\n",
      "  7351.52084084 11456.69366229  6130.61236156  6715.8016067\n",
      "  9985.02364265 10575.10566975  9736.5659413   7593.33152157\n",
      "  7979.34534121  9985.02364265  7488.59477707  9174.57982586\n",
      "  8652.55998097  7773.6469426   9515.96189174  7939.70505254\n",
      "  8545.6266191   8409.97400189  7835.29231533  8196.17191812\n",
      "  6047.40948922 13026.42978209 10850.6083836   7577.88388103\n",
      " 10124.70161336  7404.42557839  8059.54320518  9746.69307856\n",
      " 10339.4533245  11575.56569772  7593.51969798 10057.08794753\n",
      "  9156.52958649 11354.14701045  8578.84727597  9133.90841397\n",
      "  9161.74529096  6934.19783594  7773.6469426   9289.74072846\n",
      "  7965.85611462  8518.04229026 10271.52204106 10973.07230084\n",
      " 12433.35358151  9028.7479654   8216.11134349  7993.31863287\n",
      " 10292.71945599 12469.01558253  9468.34431465 11051.42966595\n",
      " 10657.50153929  8888.57292106  9786.39252944 10083.47275754\n",
      "  8465.5162965  10681.19821486  9120.58325303 11650.11072708\n",
      "  9495.8990987  10565.68847345  4639.94624519  8461.29945437\n",
      "  8699.73270495  7517.57895078 11336.19971296  8652.55998097\n",
      " 11474.01707873  9786.39252944 11400.56328023  9569.12911836\n",
      "  9640.15094795  9468.34431465 10103.88774748 10415.70823276\n",
      "  7086.32313598  9697.12455585  9454.52358019 10268.22191365\n",
      "  7366.49374492 10284.12305309 10675.77570177  9450.01780459\n",
      "  9985.02364265  9378.4557053  10418.56368996  9014.65626623\n",
      "  9398.49316146 11354.14701045  7724.04543389 10039.07695448\n",
      "  8914.71890577 10292.71945599  9640.15094795  7621.79947083\n",
      "  7596.85668812  9042.4440906   7228.92919521  7596.85668812\n",
      "  7574.51110765  6372.42304228 11064.8690476   8210.608161\n",
      " 10548.3626548  10978.83116478  8952.5654104  10083.47275754\n",
      "  9586.6448236   8318.95174016 10748.58503655 10517.48023482\n",
      "  7751.50795214  9379.09491132 10547.63451221 10850.6083836\n",
      "  9092.07705606  9656.62932336  7596.85668812 10759.51689874\n",
      "  8625.34426981  9786.39252944  9042.07643929  7241.88853504\n",
      "  8487.86187696 10973.07230084 10780.04619827  7157.25579771\n",
      " 12032.12808959  8337.03659525  8409.97400189  7520.03813437\n",
      "  8022.17836939 10446.46078187 11982.66450455 10955.74648219\n",
      "  7939.70505254  9014.65626623 11729.60239459  9333.88773679\n",
      "  7673.24269502  9230.3341305   9409.24018774  8616.13029776\n",
      "  8817.12719957  7657.71397998  8457.92202422  9423.43594417\n",
      " 10191.75374987 11161.01907974  8409.97400189  7981.89493504\n",
      "  8589.90123457  6890.32002392  6867.89947939  9251.14705232\n",
      " 10853.14143858  8982.35244158  9921.59150904 10230.31444001\n",
      "  7079.72831616  8452.41884172  9999.55945959 13026.42978209\n",
      "  9572.43446869 10193.77635684  9174.90951825  9289.74072846\n",
      " 10483.8815323  10034.08485656 11456.69366229 11575.91847508\n",
      "  6721.44680745  9736.5659413   7403.55208194  9786.39252944\n",
      "  8344.2528644  10575.10566975 10353.98885734 11817.85110651\n",
      "  7993.31863287  8583.2207722   8866.74359002  8272.40945218\n",
      "  9786.32219134  9289.74072846  7593.51969798  7724.04543389\n",
      " 10825.94751735  8272.40945218 10575.10566975  7593.4816346\n",
      "  8984.7229532   7174.48018544  7593.4816346   6069.75506969\n",
      "  8457.92202422  9183.3540664   9882.89093263  9830.81977156]\n"
     ]
    }
   ],
   "source": [
    "# predictions of the purchases based on historical data by implementing linear regression model\n",
    "\n",
    "\n",
    "predictions = lm.predict(X_test)\n",
    "print(\"Preddiction of purchases (in dollars) for new costumers:\", predictions)"
   ]
  },
  {
   "cell_type": "code",
   "execution_count": 29,
   "metadata": {},
   "outputs": [
    {
     "name": "stdout",
     "output_type": "stream",
     "text": [
      "The Mean absolute error(MAE) for linear regression model is : 3975.8958833343536\n",
      "The Mean squared error(MSE) for linear regression model is : 24285289.92493797\n"
     ]
    }
   ],
   "source": [
    "# Evaluation metrics\n",
    "\n",
    "from sklearn import metrics\n",
    "\n",
    "print('The Mean absolute error(MAE) for linear regression model is :', metrics.mean_absolute_error(y_test, predictions))\n",
    "print('The Mean squared error(MSE) for linear regression model is :', metrics.mean_squared_error(y_test, predictions))"
   ]
  },
  {
   "cell_type": "code",
   "execution_count": 30,
   "metadata": {},
   "outputs": [],
   "source": [
    "# Importing the model \n",
    "\n",
    "from xgboost.sklearn import XGBRegressor"
   ]
  },
  {
   "cell_type": "code",
   "execution_count": 31,
   "metadata": {},
   "outputs": [],
   "source": [
    "xgb=XGBRegressor(n_estimators=500,learning_rate=0.2,gamma=0,min_child_weight=10,\n",
    "                           subsample=0.8,colsample_bytree=1,max_depth=7)"
   ]
  },
  {
   "cell_type": "code",
   "execution_count": 32,
   "metadata": {},
   "outputs": [
    {
     "name": "stderr",
     "output_type": "stream",
     "text": [
      "/Applications/anaconda3/lib/python3.7/site-packages/xgboost/core.py:587: FutureWarning: Series.base is deprecated and will be removed in a future version\n",
      "  if getattr(data, 'base', None) is not None and \\\n"
     ]
    },
    {
     "name": "stdout",
     "output_type": "stream",
     "text": [
      "[20:18:27] WARNING: src/objective/regression_obj.cu:152: reg:linear is now deprecated in favor of reg:squarederror.\n"
     ]
    }
   ],
   "source": [
    "# Fitting the model with the data\n",
    "\n",
    "XGB_model=xgb.fit(X_train,y_train)"
   ]
  },
  {
   "cell_type": "code",
   "execution_count": 33,
   "metadata": {},
   "outputs": [
    {
     "name": "stdout",
     "output_type": "stream",
     "text": [
      "Prediction of purchases (in dollars) for new costumers: [ 8480.114   14517.813    6145.4673   7070.7812  14850.448    8340.994\n",
      "  6945.489    4286.761    9755.903    6942.302   19254.807   10997.952\n",
      "  9223.983    6785.889   17667.568    6651.266    5734.073   18646.031\n",
      "  8658.858   13510.438    6321.9897   9240.249   18084.48     8336.76\n",
      " 11997.226    4610.217    9036.168    7741.281   13707.524   10210.63\n",
      "  8317.297    2782.5596  15887.588    5389.0503   9069.652    6546.9097\n",
      " 14582.625    8340.994   10851.778   12081.745    8036.282   11118.859\n",
      "  9918.921   13841.782   10927.709    8709.563   12305.972    5529.659\n",
      "  4627.627    6037.7256   4971.6836   9294.087   14136.703    1167.247\n",
      "  7101.8926  18738.24    13051.764    6283.302    4892.8364   4627.627\n",
      " 14366.496   17331.059    6807.879    6037.7256   2880.941    4211.54\n",
      "  9770.929   17880.914    8907.458    3170.1812  18646.031   10625.001\n",
      " 10954.822   15333.603    9033.065   11461.359   11254.823    6562.423\n",
      "  5826.502    1570.4481   4810.512    2434.0889  10552.754    8467.476\n",
      " 16520.879   14199.836    7130.2354   5324.184    4334.901   21349.018\n",
      "  7451.1836   7868.455    6562.423   16105.935    6428.203    4627.627\n",
      "  5792.2236  10171.047    6936.2393  12007.61    14512.839    9952.347\n",
      "  8386.902   18080.03     4299.736    6915.031    5396.3037   5389.0503\n",
      "  9192.692    4239.0303   9189.52     4589.6504   4068.0876   7115.233\n",
      "  5431.325    3157.3552   4241.298     983.8193   7164.579    2090.6475\n",
      " 11346.017    8070.0586  13514.256    6546.9097   7860.921    6526.284\n",
      "  2782.5596  15259.101    8691.431    7987.886    5431.325    4267.1367\n",
      "  5298.3647  16207.27     6651.266   11899.598    9065.252    9753.055\n",
      " 15887.588   14452.32     9192.692    1061.8151   5298.3647  16067.567\n",
      "  9223.983      91.48835  6910.009    6938.0947   4023.8936  13526.123\n",
      "  9832.91    10256.792   16462.43     4400.5273  15158.891    9065.252\n",
      "  8480.114   16333.413    7882.025    6651.266   11161.521    8385.065\n",
      "  8060.21    10834.334    2403.3389  10579.688   10628.457   16153.009\n",
      "  6910.009   18745.059   14802.417    6546.3374   7745.0146   7187.703\n",
      " 13526.123    9370.515    3539.4133   5389.0503   9952.347    7876.4897\n",
      " 15887.588    8927.497    4098.8467   7033.9663  10194.575    6037.7256\n",
      " 13707.524   10535.905    8070.0586   9600.33     8150.069   13743.828\n",
      " 15573.233    7559.977    3421.5078  19301.672   18246.918    8319.849\n",
      " 13320.087    5367.7847   9476.769    8070.0586   9766.55     8641.884\n",
      "  6214.1426  18826.965    8480.114   13841.782   12112.211   10876.256\n",
      " 10256.792    7164.579   -1569.2604   7078.617   13409.449   10876.256\n",
      "  8480.114   10066.754    4591.2827  -4281.5347   1449.6561   8480.114\n",
      "  6554.393    8907.458   17596.94     2502.598    3218.1804  11406.715\n",
      "  8611.053    4420.3486  16067.567   11026.863    9033.065    9223.983\n",
      "  8621.039    5730.5225   7559.977    5792.2236   1313.9585   8862.634\n",
      " 14764.073   10194.575    6651.266    8739.506   13186.404   15468.156\n",
      " 16695.076    7629.2783  11161.521    8673.832    2502.598    4256.973\n",
      " 14436.602    5514.965    5784.662    9770.411   13096.159    9192.692\n",
      "  2090.6475  14758.21     4401.159    8333.915   14275.584   11842.078\n",
      "  6910.009    8778.982    7164.579     417.82098  3482.416   13664.772\n",
      "  4627.627   13841.782    4720.261    5866.4844   6410.758    6847.503\n",
      "  6692.723    5965.6055  13320.087   17596.94    11010.18     7164.579\n",
      " 14034.438   18646.031   16520.879   14275.584   15499.164    9545.744\n",
      " 11417.614    3506.7332   6620.909   11619.346    6749.4043  15683.0205\n",
      "  9952.347   16111.015    8480.114    8737.859    4403.6006   9476.769\n",
      "  7603.9214  15468.156   15027.955    6915.031    4098.2974   4401.159\n",
      " 16520.879    4254.452    3527.294    4241.298    7033.9663   3527.294\n",
      "  5298.3647   9627.486    9069.652   13051.764    8070.0586  15276.511\n",
      " 12661.838     417.82098  2782.5596   7311.9834   8495.197    8150.069\n",
      " 15896.454    5600.3687   -773.7082   8621.039   21743.848    9370.515\n",
      "  3527.294    8786.368    7340.526    7164.579   13489.833   10713.379\n",
      "  6590.1714   9770.411    4207.672   18094.566   14512.839   17639.885\n",
      "  4420.3486  15628.996    6344.834   10558.499   11585.301   15333.603\n",
      " 11406.715    9476.769   14457.428   14617.305    5325.425    9232.174\n",
      "  5324.184    6637.322    4267.1367   5389.0503   3170.1812   4541.638\n",
      "  6849.965   12493.587    4420.3486  15885.046    9899.563    1616.441\n",
      "  4284.424    8467.476   20109.297   12872.508    8048.2217  10338.422\n",
      "  7070.7812   1920.1224   6631.271    9223.983    6352.6113   7130.2354\n",
      " 12625.895    4256.973   19164.514   18046.484    7078.617   19273.434\n",
      " 18246.918    4591.2827   6128.0635   7164.579   11604.102   10066.754\n",
      "  5734.073   19220.12    14758.21     8309.637    9294.087    6562.423\n",
      " 17235.463    4256.973    6651.266   15027.955    7695.253    6562.423\n",
      " 10066.754   19301.672    4411.418    3542.0466  19301.672    8233.086\n",
      "  3170.1812   7945.123   16467.514    7741.281  ]\n"
     ]
    }
   ],
   "source": [
    "# predictions of the purchases based on historical data by implementing XGBoost model\n",
    "\n",
    "predictions=XGB_model.predict(X_test)\n",
    "print(\"Prediction of purchases (in dollars) for new costumers:\", predictions)"
   ]
  },
  {
   "cell_type": "code",
   "execution_count": 35,
   "metadata": {},
   "outputs": [
    {
     "name": "stdout",
     "output_type": "stream",
     "text": [
      "The Mean absolute error(MAE) for XGBoost model is : 4504.37565107253\n",
      "The Mean squared error(MSE) for XGBoost model is: 35522411.732060485\n"
     ]
    }
   ],
   "source": [
    "# Evaluation metrics\n",
    "\n",
    "from sklearn import metrics\n",
    "\n",
    "print('The Mean absolute error(MAE) for XGBoost model is :', metrics.mean_absolute_error(y_test, predictions))\n",
    "print('The Mean squared error(MSE) for XGBoost model is:', metrics.mean_squared_error(y_test, predictions))"
   ]
  },
  {
   "cell_type": "code",
   "execution_count": null,
   "metadata": {},
   "outputs": [],
   "source": []
  }
 ],
 "metadata": {
  "kernelspec": {
   "display_name": "Python 3",
   "language": "python",
   "name": "python3"
  },
  "language_info": {
   "codemirror_mode": {
    "name": "ipython",
    "version": 3
   },
   "file_extension": ".py",
   "mimetype": "text/x-python",
   "name": "python",
   "nbconvert_exporter": "python",
   "pygments_lexer": "ipython3",
   "version": "3.7.4"
  }
 },
 "nbformat": 4,
 "nbformat_minor": 2
}
